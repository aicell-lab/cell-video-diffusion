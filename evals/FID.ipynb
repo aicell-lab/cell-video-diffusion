{
 "cells": [
  {
   "cell_type": "code",
   "execution_count": 1,
   "metadata": {},
   "outputs": [
    {
     "name": "stderr",
     "output_type": "stream",
     "text": [
      "Downloading: \"https://github.com/mseitzer/pytorch-fid/releases/download/fid_weights/pt_inception-2015-12-05-6726825d.pth\" to /home/x_aleho/.cache/torch/hub/checkpoints/pt_inception-2015-12-05-6726825d.pth\n",
      "100%|██████████| 91.2M/91.2M [00:02<00:00, 34.7MB/s]\n",
      "100%|██████████| 8/8 [00:58<00:00,  7.30s/it]\n"
     ]
    },
    {
     "name": "stdout",
     "output_type": "stream",
     "text": [
      "Warning: batch size is bigger than the data size. Setting batch size to data size\n"
     ]
    },
    {
     "name": "stderr",
     "output_type": "stream",
     "text": [
      "100%|██████████| 1/1 [00:04<00:00,  4.60s/it]\n"
     ]
    },
    {
     "name": "stdout",
     "output_type": "stream",
     "text": [
      "FID: 198.79536156577302\n"
     ]
    }
   ],
   "source": [
    "from pytorch_fid.fid_score import calculate_fid_given_paths\n",
    "import torch\n",
    "\n",
    "real_path = \"../data/processed/idr0013/final_frames/\"\n",
    "gen_path  = \"../CogVideo/test_generations/final_frames/\"\n",
    "\n",
    "# If you have a GPU available, specify device='cuda'\n",
    "device = torch.device(\"cuda\" if torch.cuda.is_available() else \"cpu\")\n",
    "\n",
    "fid_value = calculate_fid_given_paths(\n",
    "    paths=[real_path, gen_path],\n",
    "    batch_size=50,        # Adjust based on your GPU/CPU memory\n",
    "    device=\"cpu\",\n",
    "    dims=2048             # By default, uses Inception v3 features\n",
    ")\n",
    "\n",
    "print(\"FID:\", fid_value)\n"
   ]
  },
  {
   "cell_type": "code",
   "execution_count": 2,
   "metadata": {},
   "outputs": [
    {
     "name": "stderr",
     "output_type": "stream",
     "text": [
      "100%|██████████| 8/8 [01:00<00:00,  7.53s/it]\n"
     ]
    },
    {
     "name": "stdout",
     "output_type": "stream",
     "text": [
      "Warning: batch size is bigger than the data size. Setting batch size to data size\n"
     ]
    },
    {
     "name": "stderr",
     "output_type": "stream",
     "text": [
      "100%|██████████| 1/1 [00:06<00:00,  6.05s/it]\n"
     ]
    },
    {
     "name": "stdout",
     "output_type": "stream",
     "text": [
      "FID: 159.65487067861488\n"
     ]
    }
   ],
   "source": [
    "from pytorch_fid.fid_score import calculate_fid_given_paths\n",
    "import torch\n",
    "\n",
    "real_path = \"../data/processed/idr0013/final_frames/\"\n",
    "gen_path  = \"../CogVideo/test_generations/final_frames/generated\"\n",
    "\n",
    "fid_value = calculate_fid_given_paths(\n",
    "    paths=[real_path, gen_path],\n",
    "    batch_size=50,        # Adjust based on your GPU/CPU memory\n",
    "    device=\"cpu\",\n",
    "    dims=2048             # By default, uses Inception v3 features\n",
    ")\n",
    "\n",
    "print(\"FID:\", fid_value)\n"
   ]
  }
 ],
 "metadata": {
  "kernelspec": {
   "display_name": "Python 3",
   "language": "python",
   "name": "python3"
  },
  "language_info": {
   "codemirror_mode": {
    "name": "ipython",
    "version": 3
   },
   "file_extension": ".py",
   "mimetype": "text/x-python",
   "name": "python",
   "nbconvert_exporter": "python",
   "pygments_lexer": "ipython3",
   "version": "3.10.16"
  }
 },
 "nbformat": 4,
 "nbformat_minor": 2
}
