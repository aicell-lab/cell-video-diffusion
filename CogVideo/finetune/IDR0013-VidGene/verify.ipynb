{
 "cells": [
  {
   "cell_type": "code",
   "execution_count": null,
   "metadata": {},
   "outputs": [
    {
     "name": "stdout",
     "output_type": "stream",
     "text": [
      "Testing image: /proj/aicell/users/x_aleho/video-diffusion/data/processed/idr0013/first_frames/00265_01.png\n",
      "OpenCV loaded image with shape (1024, 1344, 3) (H, W, C). Trying cvtColor...\n",
      "Success! We can convert to RGB.\n"
     ]
    }
   ],
   "source": [
    "import cv2\n",
    "from pathlib import Path\n",
    "\n",
    "image_path = Path(\"/proj/aicell/users/x_aleho/video-diffusion/data/processed/idr0013/first_frames/00265_01.png\")\n",
    "print(f\"Testing image: {image_path}\")\n",
    "\n",
    "if not image_path.is_file():\n",
    "    print(\"File does NOT exist at all!\")\n",
    "else:\n",
    "    # Use as_posix(), just like the dataset code\n",
    "    image = cv2.imread(image_path.as_posix())\n",
    "    if image is None:\n",
    "        print(\"OpenCV returned None → image is unreadable/corrupt.\")\n",
    "    else:\n",
    "        print(f\"OpenCV loaded image with shape {image.shape} (H, W, C). Trying cvtColor...\")\n",
    "        try:\n",
    "            image_rgb = cv2.cvtColor(image, cv2.COLOR_BGR2RGB)\n",
    "            print(\"Success! We can convert to RGB.\")\n",
    "            # /proj/aicell/users/x_aleho/video-diffusion/data/processed/idr0013/first_frames/00265_01.png\n",
    "        except cv2.error as e:\n",
    "            print(f\"Error in cvtColor: {e}\")\n"
   ]
  }
 ],
 "metadata": {
  "kernelspec": {
   "display_name": "Python 3",
   "language": "python",
   "name": "python3"
  },
  "language_info": {
   "codemirror_mode": {
    "name": "ipython",
    "version": 3
   },
   "file_extension": ".py",
   "mimetype": "text/x-python",
   "name": "python",
   "nbconvert_exporter": "python",
   "pygments_lexer": "ipython3",
   "version": "3.10.16"
  }
 },
 "nbformat": 4,
 "nbformat_minor": 2
}
