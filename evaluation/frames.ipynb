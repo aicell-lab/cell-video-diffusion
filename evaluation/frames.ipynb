{
 "cells": [
  {
   "cell_type": "code",
   "execution_count": 1,
   "metadata": {},
   "outputs": [
    {
     "data": {
      "text/html": [
       "<video src=\"/proj/aicell/users/x_aleho/video-diffusion/data/processed/idr0013/LT0001_02/00223_01.mp4\" controls  >\n",
       "      Your browser does not support the <code>video</code> element.\n",
       "    </video>"
      ],
      "text/plain": [
       "<IPython.core.display.Video object>"
      ]
     },
     "metadata": {},
     "output_type": "display_data"
    },
    {
     "name": "stdout",
     "output_type": "stream",
     "text": [
      "Total frames: 93\n",
      "Frames per second (FPS): 10.0\n"
     ]
    }
   ],
   "source": [
    "import cv2\n",
    "from IPython.display import Video\n",
    "\n",
    "def analyze_video(video_path):\n",
    "    # Display video using IPython\n",
    "    display(Video(video_path))\n",
    "    \n",
    "    # Open video file\n",
    "    cap = cv2.VideoCapture(video_path)\n",
    "    \n",
    "    # Get video properties\n",
    "    frame_count = int(cap.get(cv2.CAP_PROP_FRAME_COUNT))\n",
    "    fps = cap.get(cv2.CAP_PROP_FPS)\n",
    "    \n",
    "    # Print information\n",
    "    print(f\"Total frames: {frame_count}\")\n",
    "    print(f\"Frames per second (FPS): {fps}\")\n",
    "    \n",
    "    # Release the video capture object\n",
    "    cap.release()\n",
    "\n",
    "# Example usage:\n",
    "analyze_video('/proj/aicell/users/x_aleho/video-diffusion/data/processed/idr0013/LT0001_02/00223_01.mp4')"
   ]
  },
  {
   "cell_type": "code",
   "execution_count": 2,
   "metadata": {},
   "outputs": [
    {
     "data": {
      "text/html": [
       "<video src=\"/proj/aicell/users/x_aleho/video-diffusion/CogVideo/test_generations/i2v_lora_compare_50steps_600/LT0001_02-00223_01_withLORA_high.mp4\" controls  >\n",
       "      Your browser does not support the <code>video</code> element.\n",
       "    </video>"
      ],
      "text/plain": [
       "<IPython.core.display.Video object>"
      ]
     },
     "metadata": {},
     "output_type": "display_data"
    },
    {
     "name": "stdout",
     "output_type": "stream",
     "text": [
      "Total frames: 81\n",
      "Frames per second (FPS): 10.0\n"
     ]
    }
   ],
   "source": [
    "analyze_video('/proj/aicell/users/x_aleho/video-diffusion/CogVideo/test_generations/i2v_lora_compare_50steps_600/LT0001_02-00223_01_withLORA_high.mp4')"
   ]
  },
  {
   "cell_type": "code",
   "execution_count": 3,
   "metadata": {},
   "outputs": [
    {
     "data": {
      "text/html": [
       "<video src=\"/proj/aicell/users/x_aleho/video-diffusion/CogVideo/models/loras/idr0013-i2v-5plates-r128/validation_res/validation-800-0-Time-lapse-microscopy-vid-b05b6.mp4\" controls  >\n",
       "      Your browser does not support the <code>video</code> element.\n",
       "    </video>"
      ],
      "text/plain": [
       "<IPython.core.display.Video object>"
      ]
     },
     "metadata": {},
     "output_type": "display_data"
    },
    {
     "name": "stdout",
     "output_type": "stream",
     "text": [
      "Total frames: 81\n",
      "Frames per second (FPS): 15.0\n"
     ]
    }
   ],
   "source": [
    "analyze_video('/proj/aicell/users/x_aleho/video-diffusion/CogVideo/models/loras/idr0013-i2v-5plates-r128/validation_res/validation-800-0-Time-lapse-microscopy-vid-b05b6.mp4')\n"
   ]
  }
 ],
 "metadata": {
  "kernelspec": {
   "display_name": "Python 3",
   "language": "python",
   "name": "python3"
  },
  "language_info": {
   "codemirror_mode": {
    "name": "ipython",
    "version": 3
   },
   "file_extension": ".py",
   "mimetype": "text/x-python",
   "name": "python",
   "nbconvert_exporter": "python",
   "pygments_lexer": "ipython3",
   "version": "3.10.16"
  }
 },
 "nbformat": 4,
 "nbformat_minor": 2
}
