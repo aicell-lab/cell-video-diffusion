{
 "cells": [
  {
   "cell_type": "code",
   "execution_count": 5,
   "metadata": {},
   "outputs": [],
   "source": [
    "import imageio\n",
    "import numpy as np\n",
    "import matplotlib.pyplot as plt\n",
    "from IPython.display import HTML, display\n",
    "\n",
    "def print_and_display_video_stats(\n",
    "    mp4_path,\n",
    "    show_hist=False,\n",
    "    show_video=False,\n",
    "    max_frames_to_report=0,\n",
    "    video_width=400\n",
    "):\n",
    "    \"\"\"\n",
    "    Reads an MP4 file and prints:\n",
    "      - Per-frame min/max pixel intensities (up to max_frames_to_report frames)\n",
    "      - Overall frame count\n",
    "      - Resolution (H,W,C)\n",
    "      - Min/Max/Mean/Std intensity\n",
    "      - (Optional) a combined histogram of pixel intensities (0..255)\n",
    "      - (Optional) embeds the video in the notebook\n",
    "\n",
    "    Args:\n",
    "        mp4_path (str): Path to the MP4 file.\n",
    "        show_hist (bool): If True, displays a combined histogram plot at the end.\n",
    "        show_video (bool): If True, displays an embedded HTML <video> player in the notebook.\n",
    "        max_frames_to_report (int): Limits the number of frames for which we print min/max.\n",
    "        video_width (int): Width (in pixels) for the embedded video player if show_video=True.\n",
    "    \"\"\"\n",
    "    try:\n",
    "        reader = imageio.get_reader(mp4_path, \"ffmpeg\")\n",
    "    except Exception as e:\n",
    "        print(f\"ERROR: Unable to open {mp4_path} with imageio: {e}\")\n",
    "        return\n",
    "\n",
    "    # We'll store sums in double precision (float64)\n",
    "    sum_pixels = np.float64(0.0)\n",
    "    sum_squares = np.float64(0.0)\n",
    "\n",
    "    min_val_global = 255\n",
    "    max_val_global = 0\n",
    "    frame_count = 0\n",
    "\n",
    "    # We'll aggregate a 256-bin histogram for all frames combined\n",
    "    histogram = np.zeros(256, dtype=np.int64)\n",
    "\n",
    "    print(f\"\\nAnalyzing: {mp4_path} ...\")\n",
    "\n",
    "    # Read frames in a loop\n",
    "    for idx, frame in enumerate(reader):\n",
    "        if frame.ndim == 3:\n",
    "            # Possibly color, shape: (H, W, 3)\n",
    "            flat_data = frame.reshape(-1)\n",
    "        else:\n",
    "            # Single-channel, shape: (H, W)\n",
    "            flat_data = frame.flatten()\n",
    "\n",
    "        frame_min = flat_data.min()\n",
    "        frame_max = flat_data.max()\n",
    "\n",
    "        # Update global min/max\n",
    "        min_val_global = min(min_val_global, frame_min)\n",
    "        max_val_global = max(max_val_global, frame_max)\n",
    "\n",
    "        # Convert frame to float64 for sum of squares\n",
    "        frame_float64 = flat_data.astype(np.float64)\n",
    "\n",
    "        sum_pixels += np.sum(frame_float64)\n",
    "        sum_squares += np.sum(frame_float64 ** 2)\n",
    "\n",
    "        # Histogram\n",
    "        hist, _ = np.histogram(frame_float64, bins=256, range=(0, 255))\n",
    "        histogram += hist\n",
    "\n",
    "        # Log per-frame min/max for the first N frames\n",
    "        if idx < max_frames_to_report:\n",
    "            print(f\"  Frame {idx}: min={frame_min}, max={frame_max}\")\n",
    "\n",
    "        frame_count += 1\n",
    "\n",
    "    # If no frames or an error occurred:\n",
    "    if frame_count == 0:\n",
    "        print(\"  No frames found or video could not be read properly.\")\n",
    "        return\n",
    "\n",
    "    # The shape of the final frame read:\n",
    "    if frame.ndim == 3:\n",
    "        height, width, channels = frame.shape\n",
    "    else:\n",
    "        height, width = frame.shape\n",
    "        channels = 1\n",
    "\n",
    "    total_pixels = frame_count * height * width * channels\n",
    "    mean_val = sum_pixels / total_pixels\n",
    "\n",
    "    # variance = E(X^2) - [E(X)]^2\n",
    "    var_val = (sum_squares / total_pixels) - (mean_val ** 2)\n",
    "    if var_val < 0:\n",
    "        var_val = 0\n",
    "    std_val = np.sqrt(var_val)\n",
    "\n",
    "    print(f\"\\nOverall statistics for {mp4_path}:\")\n",
    "    print(f\"  Frame count: {frame_count}\")\n",
    "    print(f\"  Resolution (H x W x C): {height} x {width} x {channels}\")\n",
    "    print(f\"  Intensity range across all frames: min={min_val_global}, max={max_val_global}\")\n",
    "    print(f\"  Mean intensity: {mean_val:.4f}\")\n",
    "    print(f\"  Std intensity:  {std_val:.4f}\")\n",
    "\n",
    "    if show_hist:\n",
    "        plt.figure(figsize=(6,4))\n",
    "        plt.bar(np.arange(256), histogram, width=1.0, color='gray')\n",
    "        plt.title(\"Combined Intensity Histogram (All Frames)\")\n",
    "        plt.xlabel(\"Pixel Intensity\")\n",
    "        plt.ylabel(\"Count\")\n",
    "        plt.show()\n",
    "\n",
    "    # Optionally display the video inline\n",
    "    if show_video:\n",
    "        display(HTML(f\"\"\"\n",
    "        <video width=\"{video_width}\" controls>\n",
    "          <source src=\"{mp4_path}\" type=\"video/mp4\">\n",
    "          Your browser does not support the video tag.\n",
    "        </video>\n",
    "        \"\"\"))"
   ]
  },
  {
   "cell_type": "markdown",
   "metadata": {},
   "source": [
    "### the two validation videos"
   ]
  },
  {
   "cell_type": "code",
   "execution_count": 6,
   "metadata": {},
   "outputs": [
    {
     "name": "stdout",
     "output_type": "stream",
     "text": [
      "\n",
      "Analyzing: /proj/aicell/users/x_aleho/video-diffusion/data/processed/idr0013/LT0004_06/00247_01.mp4 ...\n",
      "\n",
      "Overall statistics for /proj/aicell/users/x_aleho/video-diffusion/data/processed/idr0013/LT0004_06/00247_01.mp4:\n",
      "  Frame count: 81\n",
      "  Resolution (H x W x C): 768 x 1360 x 3\n",
      "  Intensity range across all frames: min=6, max=255\n",
      "  Mean intensity: 19.4919\n",
      "  Std intensity:  10.4222\n"
     ]
    },
    {
     "data": {
      "text/html": [
       "\n",
       "        <video width=\"400\" controls>\n",
       "          <source src=\"/proj/aicell/users/x_aleho/video-diffusion/data/processed/idr0013/LT0004_06/00247_01.mp4\" type=\"video/mp4\">\n",
       "          Your browser does not support the video tag.\n",
       "        </video>\n",
       "        "
      ],
      "text/plain": [
       "<IPython.core.display.HTML object>"
      ]
     },
     "metadata": {},
     "output_type": "display_data"
    },
    {
     "name": "stdout",
     "output_type": "stream",
     "text": [
      "\n",
      "Analyzing: /proj/aicell/users/x_aleho/video-diffusion/data/processed/idr0013/LT0004_06/00223_01.mp4 ...\n",
      "\n",
      "Overall statistics for /proj/aicell/users/x_aleho/video-diffusion/data/processed/idr0013/LT0004_06/00223_01.mp4:\n",
      "  Frame count: 81\n",
      "  Resolution (H x W x C): 768 x 1360 x 3\n",
      "  Intensity range across all frames: min=3, max=255\n",
      "  Mean intensity: 19.2454\n",
      "  Std intensity:  9.4615\n"
     ]
    },
    {
     "data": {
      "text/html": [
       "\n",
       "        <video width=\"400\" controls>\n",
       "          <source src=\"/proj/aicell/users/x_aleho/video-diffusion/data/processed/idr0013/LT0004_06/00223_01.mp4\" type=\"video/mp4\">\n",
       "          Your browser does not support the video tag.\n",
       "        </video>\n",
       "        "
      ],
      "text/plain": [
       "<IPython.core.display.HTML object>"
      ]
     },
     "metadata": {},
     "output_type": "display_data"
    }
   ],
   "source": [
    "video_path = \"/proj/aicell/users/x_aleho/video-diffusion/data/processed/idr0013/LT0004_06/00247_01.mp4\"\n",
    "print_and_display_video_stats(video_path, show_video=True)\n",
    "video_path = \"/proj/aicell/users/x_aleho/video-diffusion/data/processed/idr0013/LT0004_06/00223_01.mp4\"\n",
    "print_and_display_video_stats(video_path, show_video=True)"
   ]
  },
  {
   "cell_type": "code",
   "execution_count": 7,
   "metadata": {},
   "outputs": [
    {
     "name": "stdout",
     "output_type": "stream",
     "text": [
      "\n",
      "Analyzing: /proj/aicell/users/x_aleho/video-diffusion/CogVideo/models/loras/IDR0013-10plates-i2v-r128-a64/validation_res/validation-real-100-0-<ALEXANDER>-Time-lapse-mi-23565.mp4 ...\n",
      "\n",
      "Overall statistics for /proj/aicell/users/x_aleho/video-diffusion/CogVideo/models/loras/IDR0013-10plates-i2v-r128-a64/validation_res/validation-real-100-0-<ALEXANDER>-Time-lapse-mi-23565.mp4:\n",
      "  Frame count: 81\n",
      "  Resolution (H x W x C): 768 x 1360 x 3\n",
      "  Intensity range across all frames: min=0, max=255\n",
      "  Mean intensity: 19.3187\n",
      "  Std intensity:  10.3310\n"
     ]
    },
    {
     "data": {
      "text/html": [
       "\n",
       "        <video width=\"400\" controls>\n",
       "          <source src=\"/proj/aicell/users/x_aleho/video-diffusion/CogVideo/models/loras/IDR0013-10plates-i2v-r128-a64/validation_res/validation-real-100-0-<ALEXANDER>-Time-lapse-mi-23565.mp4\" type=\"video/mp4\">\n",
       "          Your browser does not support the video tag.\n",
       "        </video>\n",
       "        "
      ],
      "text/plain": [
       "<IPython.core.display.HTML object>"
      ]
     },
     "metadata": {},
     "output_type": "display_data"
    }
   ],
   "source": [
    "video_path = \"/proj/aicell/users/x_aleho/video-diffusion/CogVideo/models/loras/IDR0013-10plates-i2v-r128-a64/validation_res/validation-real-100-0-<ALEXANDER>-Time-lapse-mi-23565.mp4\"\n",
    "print_and_display_video_stats(video_path, show_video=True)"
   ]
  },
  {
   "cell_type": "code",
   "execution_count": 8,
   "metadata": {},
   "outputs": [
    {
     "name": "stdout",
     "output_type": "stream",
     "text": [
      "\n",
      "Analyzing: /proj/aicell/users/x_aleho/video-diffusion/CogVideo/models/loras/IDR0013-10plates-i2v-r128-a64/validation_res/validation-gen-100-0-<ALEXANDER>-Time-lapse-mi-23565.mp4 ...\n",
      "\n",
      "Overall statistics for /proj/aicell/users/x_aleho/video-diffusion/CogVideo/models/loras/IDR0013-10plates-i2v-r128-a64/validation_res/validation-gen-100-0-<ALEXANDER>-Time-lapse-mi-23565.mp4:\n",
      "  Frame count: 81\n",
      "  Resolution (H x W x C): 768 x 1360 x 3\n",
      "  Intensity range across all frames: min=0, max=255\n",
      "  Mean intensity: 8.9952\n",
      "  Std intensity:  23.0440\n"
     ]
    },
    {
     "data": {
      "text/html": [
       "\n",
       "        <video width=\"400\" controls>\n",
       "          <source src=\"/proj/aicell/users/x_aleho/video-diffusion/CogVideo/models/loras/IDR0013-10plates-i2v-r128-a64/validation_res/validation-gen-100-0-<ALEXANDER>-Time-lapse-mi-23565.mp4\" type=\"video/mp4\">\n",
       "          Your browser does not support the video tag.\n",
       "        </video>\n",
       "        "
      ],
      "text/plain": [
       "<IPython.core.display.HTML object>"
      ]
     },
     "metadata": {},
     "output_type": "display_data"
    }
   ],
   "source": [
    "video_path = \"/proj/aicell/users/x_aleho/video-diffusion/CogVideo/models/loras/IDR0013-10plates-i2v-r128-a64/validation_res/validation-gen-100-0-<ALEXANDER>-Time-lapse-mi-23565.mp4\"\n",
    "print_and_display_video_stats(video_path, show_video=True)"
   ]
  },
  {
   "cell_type": "code",
   "execution_count": 9,
   "metadata": {},
   "outputs": [
    {
     "name": "stdout",
     "output_type": "stream",
     "text": [
      "\n",
      "Analyzing: /proj/aicell/users/x_aleho/video-diffusion/CogVideo/models/loras/IDR0013-10plates-i2v-r128-a64/validation_res/validation-gen-500-0-<ALEXANDER>-Time-lapse-mi-23565.mp4 ...\n",
      "\n",
      "Overall statistics for /proj/aicell/users/x_aleho/video-diffusion/CogVideo/models/loras/IDR0013-10plates-i2v-r128-a64/validation_res/validation-gen-500-0-<ALEXANDER>-Time-lapse-mi-23565.mp4:\n",
      "  Frame count: 81\n",
      "  Resolution (H x W x C): 768 x 1360 x 3\n",
      "  Intensity range across all frames: min=0, max=255\n",
      "  Mean intensity: 15.9815\n",
      "  Std intensity:  13.3902\n"
     ]
    },
    {
     "data": {
      "text/html": [
       "\n",
       "        <video width=\"400\" controls>\n",
       "          <source src=\"/proj/aicell/users/x_aleho/video-diffusion/CogVideo/models/loras/IDR0013-10plates-i2v-r128-a64/validation_res/validation-gen-500-0-<ALEXANDER>-Time-lapse-mi-23565.mp4\" type=\"video/mp4\">\n",
       "          Your browser does not support the video tag.\n",
       "        </video>\n",
       "        "
      ],
      "text/plain": [
       "<IPython.core.display.HTML object>"
      ]
     },
     "metadata": {},
     "output_type": "display_data"
    }
   ],
   "source": [
    "checkpoint = 500\n",
    "video_path = f\"/proj/aicell/users/x_aleho/video-diffusion/CogVideo/models/loras/IDR0013-10plates-i2v-r128-a64/validation_res/validation-gen-{checkpoint}-0-<ALEXANDER>-Time-lapse-mi-23565.mp4\"\n",
    "print_and_display_video_stats(video_path, show_video=True)"
   ]
  },
  {
   "cell_type": "code",
   "execution_count": 12,
   "metadata": {},
   "outputs": [
    {
     "name": "stdout",
     "output_type": "stream",
     "text": [
      "\n",
      "Analyzing: /proj/aicell/users/x_aleho/video-diffusion/CogVideo/inference/test_generations/i2v_r128_400/LT0004_11-00001_01_S50_G8_F81_FPS10.mp4 ...\n",
      "\n",
      "Overall statistics for /proj/aicell/users/x_aleho/video-diffusion/CogVideo/inference/test_generations/i2v_r128_400/LT0004_11-00001_01_S50_G8_F81_FPS10.mp4:\n",
      "  Frame count: 81\n",
      "  Resolution (H x W x C): 768 x 1360 x 3\n",
      "  Intensity range across all frames: min=0, max=255\n",
      "  Mean intensity: 12.2257\n",
      "  Std intensity:  9.7140\n"
     ]
    },
    {
     "data": {
      "text/html": [
       "\n",
       "        <video width=\"400\" controls>\n",
       "          <source src=\"/proj/aicell/users/x_aleho/video-diffusion/CogVideo/inference/test_generations/i2v_r128_400/LT0004_11-00001_01_S50_G8_F81_FPS10.mp4\" type=\"video/mp4\">\n",
       "          Your browser does not support the video tag.\n",
       "        </video>\n",
       "        "
      ],
      "text/plain": [
       "<IPython.core.display.HTML object>"
      ]
     },
     "metadata": {},
     "output_type": "display_data"
    }
   ],
   "source": [
    "video_path = '/proj/aicell/users/x_aleho/video-diffusion/CogVideo/inference/test_generations/i2v_r128_400/LT0004_11-00001_01_S50_G8_F81_FPS10.mp4'\n",
    "print_and_display_video_stats(video_path, show_video=True)"
   ]
  },
  {
   "cell_type": "code",
   "execution_count": 10,
   "metadata": {},
   "outputs": [],
   "source": [
    "def print_and_display_image_stats(\n",
    "    image_path,\n",
    "    show_hist=False,\n",
    "    show_image=False,\n",
    "    image_width=400\n",
    "):\n",
    "    \"\"\"\n",
    "    Reads an image file and prints:\n",
    "      - Resolution (H,W,C)\n",
    "      - Min/Max/Mean/Std intensity\n",
    "      - (Optional) a histogram of pixel intensities (0..255)\n",
    "      - (Optional) displays the image in the notebook\n",
    "\n",
    "    Args:\n",
    "        image_path (str): Path to the image file.\n",
    "        show_hist (bool): If True, displays a histogram plot.\n",
    "        show_image (bool): If True, displays the image in the notebook.\n",
    "        image_width (int): Width (in pixels) for the displayed image if show_image=True.\n",
    "    \"\"\"\n",
    "    try:\n",
    "        image = imageio.imread(image_path)\n",
    "    except Exception as e:\n",
    "        print(f\"ERROR: Unable to open {image_path} with imageio: {e}\")\n",
    "        return\n",
    "\n",
    "    if image.ndim == 3:\n",
    "        # Color image, shape: (H, W, C)\n",
    "        height, width, channels = image.shape\n",
    "        flat_data = image.reshape(-1)\n",
    "    else:\n",
    "        # Single-channel, shape: (H, W)\n",
    "        height, width = image.shape\n",
    "        channels = 1\n",
    "        flat_data = image.flatten()\n",
    "\n",
    "    # Calculate statistics\n",
    "    min_val = flat_data.min()\n",
    "    max_val = flat_data.max()\n",
    "    \n",
    "    # Convert to float64 for accurate calculations\n",
    "    image_float64 = flat_data.astype(np.float64)\n",
    "    mean_val = np.mean(image_float64)\n",
    "    std_val = np.std(image_float64)\n",
    "    \n",
    "    # Create histogram\n",
    "    histogram, _ = np.histogram(image_float64, bins=256, range=(0, 255))\n",
    "\n",
    "    print(f\"\\nAnalyzing: {image_path} ...\")\n",
    "    print(f\"\\nImage statistics:\")\n",
    "    print(f\"  Resolution (H x W x C): {height} x {width} x {channels}\")\n",
    "    print(f\"  Intensity range: min={min_val}, max={max_val}\")\n",
    "    print(f\"  Mean intensity: {mean_val:.4f}\")\n",
    "    print(f\"  Std intensity:  {std_val:.4f}\")\n",
    "\n",
    "    if show_hist:\n",
    "        plt.figure(figsize=(6,4))\n",
    "        plt.bar(np.arange(256), histogram, width=1.0, color='gray')\n",
    "        plt.title(\"Intensity Histogram\")\n",
    "        plt.xlabel(\"Pixel Intensity\")\n",
    "        plt.ylabel(\"Count\")\n",
    "        plt.show()\n",
    "\n",
    "    # Optionally display the image inline\n",
    "    if show_image:\n",
    "        plt.figure(figsize=(10, 10 * height / width))\n",
    "        if channels == 1:\n",
    "            plt.imshow(image, cmap='gray')\n",
    "        else:\n",
    "            plt.imshow(image)\n",
    "        plt.axis('off')\n",
    "        plt.show()"
   ]
  },
  {
   "cell_type": "code",
   "execution_count": 11,
   "metadata": {},
   "outputs": [
    {
     "name": "stderr",
     "output_type": "stream",
     "text": [
      "/tmp/ipykernel_1619568/3827838661.py:21: DeprecationWarning: Starting with ImageIO v3 the behavior of this function will switch to that of iio.v3.imread. To keep the current behavior (and make this warning disappear) use `import imageio.v2 as imageio` or call `imageio.v2.imread` directly.\n",
      "  image = imageio.imread(image_path)\n"
     ]
    },
    {
     "name": "stdout",
     "output_type": "stream",
     "text": [
      "\n",
      "Analyzing: /proj/aicell/users/x_aleho/video-diffusion/data/processed/idr0013/first_frames/LT0004_06-00223_01.png ...\n",
      "\n",
      "Image statistics:\n",
      "  Resolution (H x W x C): 768 x 1360 x 3\n",
      "  Intensity range: min=12, max=255\n",
      "  Mean intensity: 17.8220\n",
      "  Std intensity:  6.9490\n"
     ]
    },
    {
     "data": {
      "image/png": "[encoded data removed]",
      "text/plain": [
       "<Figure size 600x400 with 1 Axes>"
      ]
     },
     "metadata": {},
     "output_type": "display_data"
    },
    {
     "data": {
      "image/png": "[encoded data removed]",
      "text/plain": [
       "<Figure size 1000x564.706 with 1 Axes>"
      ]
     },
     "metadata": {},
     "output_type": "display_data"
    }
   ],
   "source": [
    "image_path = \"/proj/aicell/users/x_aleho/video-diffusion/data/processed/idr0013/first_frames/LT0004_06-00223_01.png\"\n",
    "print_and_display_image_stats(image_path, show_hist=True, show_image=True)"
   ]
  }
 ],
 "metadata": {
  "kernelspec": {
   "display_name": "Python 3",
   "language": "python",
   "name": "python3"
  },
  "language_info": {
   "codemirror_mode": {
    "name": "ipython",
    "version": 3
   },
   "file_extension": ".py",
   "mimetype": "text/x-python",
   "name": "python",
   "nbconvert_exporter": "python",
   "pygments_lexer": "ipython3",
   "version": "3.10.16"
  }
 },
 "nbformat": 4,
 "nbformat_minor": 2
}
